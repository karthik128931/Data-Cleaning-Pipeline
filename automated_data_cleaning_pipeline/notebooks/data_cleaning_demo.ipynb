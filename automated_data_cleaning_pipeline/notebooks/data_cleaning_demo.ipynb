import pandas as pd
from src.data_cleaning_pipeline import automated_data_cleaning_piepline
cleaned_data=automated_data_cleaning_pipeline("data/raw_data.csv")
cleaned_data.head()
